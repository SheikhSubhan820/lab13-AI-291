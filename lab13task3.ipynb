{
 "cells": [
  {
   "cell_type": "code",
   "execution_count": 1,
   "id": "89837a5a-1a20-488e-a861-1c5b784b476e",
   "metadata": {},
   "outputs": [
    {
     "name": "stdout",
     "output_type": "stream",
     "text": [
      "Welcome to the Genetic Algorithm Simulation!\n",
      "Enter the number of chromosomes (individuals):\n"
     ]
    },
    {
     "name": "stdin",
     "output_type": "stream",
     "text": [
      " 6\n"
     ]
    },
    {
     "name": "stdout",
     "output_type": "stream",
     "text": [
      "Enter the length of each chromosome:\n"
     ]
    },
    {
     "name": "stdin",
     "output_type": "stream",
     "text": [
      " 12\n"
     ]
    },
    {
     "name": "stdout",
     "output_type": "stream",
     "text": [
      "\n",
      "Enter the values for 6 chromosomes (only 0s and 1s):\n"
     ]
    },
    {
     "name": "stdin",
     "output_type": "stream",
     "text": [
      "Chromosome 1:  100001110100\n",
      "Chromosome 2:  100011110110\n",
      "Chromosome 3:  111111100001\n",
      "Chromosome 4:  101000110011\n",
      "Chromosome 5:  000000111011\n",
      "Chromosome 6:  000001111111\n"
     ]
    },
    {
     "name": "stdout",
     "output_type": "stream",
     "text": [
      "\n",
      "Initial Population (S): [[1, 0, 0, 0, 0, 1, 1, 1, 0, 1, 0, 0], [1, 0, 0, 0, 1, 1, 1, 1, 0, 1, 1, 0], [1, 1, 1, 1, 1, 1, 1, 0, 0, 0, 0, 1], [1, 0, 1, 0, 0, 0, 1, 1, 0, 0, 1, 1], [0, 0, 0, 0, 0, 0, 1, 1, 1, 0, 1, 1], [0, 0, 0, 0, 0, 1, 1, 1, 1, 1, 1, 1]]\n",
      "\n",
      "Fitness for each individual:\n",
      "[5, 7, 8, 6, 5, 7]\n",
      "Total Fitness: 38\n",
      "\n",
      "Arranging in Descending Order:\n",
      "Sorted Population (S): [[1, 1, 1, 1, 1, 1, 1, 0, 0, 0, 0, 1], [1, 0, 0, 0, 1, 1, 1, 1, 0, 1, 1, 0], [0, 0, 0, 0, 0, 1, 1, 1, 1, 1, 1, 1], [1, 0, 1, 0, 0, 0, 1, 1, 0, 0, 1, 1], [1, 0, 0, 0, 0, 1, 1, 1, 0, 1, 0, 0], [0, 0, 0, 0, 0, 0, 1, 1, 1, 0, 1, 1]]\n",
      "\n",
      "Crossover after 2 points:\n",
      "After Crossover:\n",
      "s1 = [1, 0, 1, 1, 1, 1, 1, 0, 0, 0, 0, 1] s4 = [1, 1, 1, 0, 0, 0, 1, 1, 0, 0, 1, 1]\n",
      "s5 = [0, 0, 0, 0, 0, 1, 1, 1, 0, 1, 0, 0] s6 = [1, 0, 0, 0, 0, 0, 1, 1, 1, 0, 1, 1]\n",
      "Population (S) after Crossover: [[1, 0, 1, 1, 1, 1, 1, 0, 0, 0, 0, 1], [1, 0, 0, 0, 1, 1, 1, 1, 0, 1, 1, 0], [0, 0, 0, 0, 0, 1, 1, 1, 1, 1, 1, 1], [1, 1, 1, 0, 0, 0, 1, 1, 0, 0, 1, 1], [0, 0, 0, 0, 0, 1, 1, 1, 0, 1, 0, 0], [1, 0, 0, 0, 0, 0, 1, 1, 1, 0, 1, 1]]\n",
      "\n",
      "Mutation:\n",
      "Population (S) after Mutation: [[0, 1, 1, 1, 1, 1, 1, 0, 0, 0, 0, 1], [0, 1, 0, 0, 1, 1, 1, 1, 0, 1, 1, 0], [1, 1, 0, 0, 0, 1, 1, 1, 1, 1, 1, 1], [0, 0, 1, 0, 0, 0, 1, 1, 0, 0, 1, 1], [1, 1, 0, 0, 0, 1, 1, 1, 0, 1, 0, 0], [0, 1, 0, 0, 0, 0, 1, 1, 1, 0, 1, 1]]\n",
      "\n",
      "Fitness for each individual:\n",
      "[7, 7, 9, 5, 6, 6]\n",
      "Total Fitness: 40\n",
      "\n",
      "Fitness is greater after applying the Genetic Algorithm.\n"
     ]
    }
   ],
   "source": [
    "# Function to calculate fitness\n",
    "def calfitness(S):\n",
    "    fit = []\n",
    "    total = 0\n",
    "    print(\"\\nFitness for each individual:\")\n",
    "    for i in S:\n",
    "        fit.append(i.count(1))\n",
    "        total += i.count(1)\n",
    "    print(fit)\n",
    "    print(\"Total Fitness:\", total)\n",
    "    return fit\n",
    "\n",
    "# Input Population\n",
    "def input_population():\n",
    "    print(\"Enter the number of chromosomes (individuals):\")\n",
    "    n = int(input())\n",
    "    print(\"Enter the length of each chromosome:\")\n",
    "    m = int(input())\n",
    "    \n",
    "    print(f\"\\nEnter the values for {n} chromosomes (only 0s and 1s):\")\n",
    "    S = []\n",
    "    for i in range(n):\n",
    "        while True:\n",
    "            chromosome = input(f\"Chromosome {i + 1}: \").strip()\n",
    "            if len(chromosome) == m and all(c in \"01\" for c in chromosome):\n",
    "                S.append([int(c) for c in chromosome])\n",
    "                break\n",
    "            else:\n",
    "                print(\"Invalid input! Please enter exactly\", m, \"binary digits (0 or 1).\")\n",
    "    return S\n",
    "\n",
    "# Main Program\n",
    "print(\"Welcome to the Genetic Algorithm Simulation!\")\n",
    "S = input_population()\n",
    "print(\"\\nInitial Population (S):\", S)\n",
    "\n",
    "# Calculate initial fitness\n",
    "fit = calfitness(S)\n",
    "\n",
    "# Arrange in Descending Order of Fitness\n",
    "print(\"\\nArranging in Descending Order:\")\n",
    "desc = sorted(S, key=lambda x: x.count(1), reverse=True)\n",
    "print(\"Sorted Population (S):\", desc)\n",
    "\n",
    "# Crossover after 2 points\n",
    "print(\"\\nCrossover after 2 points:\")\n",
    "for i in range(3):\n",
    "    desc[0][i], desc[3][i] = desc[3][i], desc[0][i]\n",
    "    desc[4][i], desc[5][i] = desc[5][i], desc[4][i]\n",
    "\n",
    "print(\"After Crossover:\")\n",
    "print(\"s1 =\", desc[0], \"s4 =\", desc[3])\n",
    "print(\"s5 =\", desc[4], \"s6 =\", desc[5])\n",
    "print(\"Population (S) after Crossover:\", desc)\n",
    "\n",
    "# Mutation\n",
    "print(\"\\nMutation:\")\n",
    "for i in range(len(desc)):\n",
    "    for j in range(2):\n",
    "        desc[i][j] = 1 if desc[i][j] == 0 else 0\n",
    "\n",
    "print(\"Population (S) after Mutation:\", desc)\n",
    "\n",
    "# Calculate fitness after mutation\n",
    "fit2 = calfitness(desc)\n",
    "\n",
    "# Compare fitness before and after applying the Genetic Algorithm\n",
    "if sum(fit) < sum(fit2):\n",
    "    print(\"\\nFitness is greater after applying the Genetic Algorithm.\")\n",
    "else:\n",
    "    print(\"\\nFitness is greater before applying the Genetic Algorithm.\")\n",
    "\n"
   ]
  },
  {
   "cell_type": "code",
   "execution_count": null,
   "id": "fa666e3d-dce6-4e20-bf8d-ddecb0fc25f5",
   "metadata": {},
   "outputs": [],
   "source": []
  }
 ],
 "metadata": {
  "kernelspec": {
   "display_name": "Python 3 (ipykernel)",
   "language": "python",
   "name": "python3"
  },
  "language_info": {
   "codemirror_mode": {
    "name": "ipython",
    "version": 3
   },
   "file_extension": ".py",
   "mimetype": "text/x-python",
   "name": "python",
   "nbconvert_exporter": "python",
   "pygments_lexer": "ipython3",
   "version": "3.12.7"
  }
 },
 "nbformat": 4,
 "nbformat_minor": 5
}
