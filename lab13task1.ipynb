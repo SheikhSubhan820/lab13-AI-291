{
 "cells": [
  {
   "cell_type": "code",
   "execution_count": 2,
   "id": "dc45b806-2003-4227-bc5f-869225794aac",
   "metadata": {},
   "outputs": [
    {
     "name": "stdout",
     "output_type": "stream",
     "text": [
      "Initial Population (S): [[0, 0, 1, 1, 1, 1, 1, 1, 1, 1], [0, 0, 1, 1, 1, 1, 1, 1, 1, 1], [0, 1, 1, 0, 1, 1, 0, 1, 1, 1], [0, 1, 0, 1, 1, 1, 0, 0, 1, 1], [0, 0, 1, 0, 1, 1, 1, 1, 1, 1], [0, 0, 1, 0, 1, 1, 0, 1, 1, 1]]\n",
      "Fitness for each individual:\n",
      "[8, 8, 7, 6, 7, 6]\n",
      "Total Fitness: 42\n",
      "\n",
      "Arranging in Descending Order:\n",
      "Sorted Population (S): [[0, 0, 1, 1, 1, 1, 1, 1, 1, 1], [0, 0, 1, 1, 1, 1, 1, 1, 1, 1], [0, 1, 1, 0, 1, 1, 0, 1, 1, 1], [0, 0, 1, 0, 1, 1, 1, 1, 1, 1], [0, 1, 0, 1, 1, 1, 0, 0, 1, 1], [0, 0, 1, 0, 1, 1, 0, 1, 1, 1]]\n",
      "\n",
      "Crossover after 2 points:\n",
      "After Crossover:\n",
      "s1 = [0, 0, 1, 1, 1, 1, 1, 1, 1, 1] s4 = [0, 0, 1, 0, 1, 1, 1, 1, 1, 1]\n",
      "s5 = [0, 0, 1, 1, 1, 1, 0, 0, 1, 1] s6 = [0, 1, 0, 0, 1, 1, 0, 1, 1, 1]\n",
      "Population (S) after Crossover: [[0, 0, 1, 1, 1, 1, 1, 1, 1, 1], [0, 0, 1, 1, 1, 1, 1, 1, 1, 1], [0, 1, 1, 0, 1, 1, 0, 1, 1, 1], [0, 0, 1, 0, 1, 1, 1, 1, 1, 1], [0, 0, 1, 1, 1, 1, 0, 0, 1, 1], [0, 1, 0, 0, 1, 1, 0, 1, 1, 1]]\n",
      "\n",
      "Mutation:\n",
      "Population (S) after Mutation: [[1, 1, 1, 1, 1, 1, 1, 1, 1, 1], [1, 1, 1, 1, 1, 1, 1, 1, 1, 1], [1, 0, 1, 0, 1, 1, 0, 1, 1, 1], [1, 1, 1, 0, 1, 1, 1, 1, 1, 1], [1, 1, 1, 1, 1, 1, 0, 0, 1, 1], [1, 0, 0, 0, 1, 1, 0, 1, 1, 1]]\n",
      "Fitness for each individual:\n",
      "[10, 10, 7, 9, 8, 6]\n",
      "Total Fitness: 50\n",
      "\n",
      "Fitness is greater after applying the Genetic Algorithm.\n"
     ]
    }
   ],
   "source": [
    "S = [\n",
    "    [0, 0, 1, 1, 1, 1, 1, 1, 1, 1],\n",
    "    [0, 0, 1, 1, 1, 1, 1, 1, 1, 1],\n",
    "    [0, 1, 1, 0, 1, 1, 0, 1, 1, 1],\n",
    "    [0, 1, 0, 1, 1, 1, 0, 0, 1, 1],\n",
    "    [0, 0, 1, 0, 1, 1, 1, 1, 1, 1],\n",
    "    [0, 0, 1, 0, 1, 1, 0, 1, 1, 1]\n",
    "]\n",
    "\n",
    "print(\"Initial Population (S):\", S)\n",
    "\n",
    "def calfitness(S):\n",
    "    fit = []\n",
    "    total = 0\n",
    "    print(\"Fitness for each individual:\")\n",
    "    for i in S:\n",
    "        fit.append(i.count(1))\n",
    "        total += i.count(1)\n",
    "    print(fit)\n",
    "    print(\"Total Fitness:\", total)\n",
    "    return fit\n",
    "\n",
    "# Calculate initial fitness\n",
    "fit = calfitness(S)\n",
    "\n",
    "# Arrange in Descending Order of Fitness\n",
    "print(\"\\nArranging in Descending Order:\")\n",
    "desc = sorted(S, key=lambda x: x.count(1), reverse=True)\n",
    "print(\"Sorted Population (S):\", desc)\n",
    "\n",
    "# Crossover after 2 points\n",
    "print(\"\\nCrossover after 2 points:\")\n",
    "for i in range(3):\n",
    "    desc[0][i], desc[3][i] = desc[3][i], desc[0][i]\n",
    "    desc[4][i], desc[5][i] = desc[5][i], desc[4][i]\n",
    "\n",
    "print(\"After Crossover:\")\n",
    "print(\"s1 =\", desc[0], \"s4 =\", desc[3])\n",
    "print(\"s5 =\", desc[4], \"s6 =\", desc[5])\n",
    "print(\"Population (S) after Crossover:\", desc)\n",
    "\n",
    "# Mutation\n",
    "print(\"\\nMutation:\")\n",
    "for i in range(6):\n",
    "    for j in range(2):\n",
    "        desc[i][j] = 1 if desc[i][j] == 0 else 0\n",
    "\n",
    "print(\"Population (S) after Mutation:\", desc)\n",
    "\n",
    "# Calculate fitness after mutation\n",
    "fit2 = calfitness(desc)\n",
    "\n",
    "# Compare fitness before and after applying the Genetic Algorithm\n",
    "if sum(fit) < sum(fit2):\n",
    "    print(\"\\nFitness is greater after applying the Genetic Algorithm.\")\n",
    "else:\n",
    "    print(\"\\nFitness is greater before applying the Genetic Algorithm.\")\n"
   ]
  },
  {
   "cell_type": "code",
   "execution_count": null,
   "id": "f1360939-673c-408d-8c3a-0e1bde3b0304",
   "metadata": {},
   "outputs": [],
   "source": []
  }
 ],
 "metadata": {
  "kernelspec": {
   "display_name": "Python 3 (ipykernel)",
   "language": "python",
   "name": "python3"
  },
  "language_info": {
   "codemirror_mode": {
    "name": "ipython",
    "version": 3
   },
   "file_extension": ".py",
   "mimetype": "text/x-python",
   "name": "python",
   "nbconvert_exporter": "python",
   "pygments_lexer": "ipython3",
   "version": "3.12.7"
  }
 },
 "nbformat": 4,
 "nbformat_minor": 5
}
